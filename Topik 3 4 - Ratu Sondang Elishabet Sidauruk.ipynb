{
  "metadata": {
    "colab": {
      "name": "Topic 4 - Assignment ipynb",
      "provenance": [],
      "collapsed_sections": []
    },
    "kernelspec": {
      "name": "python",
      "display_name": "Python (Pyodide)",
      "language": "python"
    },
    "language_info": {
      "codemirror_mode": {
        "name": "python",
        "version": 3
      },
      "file_extension": ".py",
      "mimetype": "text/x-python",
      "name": "python",
      "nbconvert_exporter": "python",
      "pygments_lexer": "ipython3",
      "version": "3.8"
    }
  },
  "nbformat_minor": 4,
  "nbformat": 4,
  "cells": [
    {
      "cell_type": "markdown",
      "source": "##Topic 3 - Python Structure & Data Type Assignment\n",
      "metadata": {
        "id": "f6LjKU50-tD8"
      }
    },
    {
      "cell_type": "markdown",
      "source": "# Data Type Declaration",
      "metadata": {
        "id": "MPuR878HZEbx"
      }
    },
    {
      "cell_type": "markdown",
      "source": "1. > Create an empty variable (Points : 5)",
      "metadata": {
        "id": "GyS5I54D-3K9"
      }
    },
    {
      "cell_type": "code",
      "source": "#Data dibawah ini adalah empty variable dari class set\na = set()\nprint(type(a))",
      "metadata": {
        "id": "jehesBY-_aKL",
        "trusted": true
      },
      "execution_count": 3,
      "outputs": [
        {
          "name": "stdout",
          "text": "<class 'set'>\n",
          "output_type": "stream"
        }
      ]
    },
    {
      "cell_type": "markdown",
      "source": "2. > Create a variable containing your name (Points : 5)",
      "metadata": {
        "id": "6zCz3qZ8_bu2"
      }
    },
    {
      "cell_type": "code",
      "source": "#Membuat perkenalan diri \nnama = 'Ratu Sondang Elishabet Sidauruk.';\nprint(\"Hallo nama saya adalah \" + nama);",
      "metadata": {
        "id": "1wT8jnI6_f-U",
        "trusted": true
      },
      "execution_count": 4,
      "outputs": [
        {
          "name": "stdout",
          "text": "Hallo nama saya adalah Ratu Sondang Elishabet Sidauruk.\n",
          "output_type": "stream"
        }
      ]
    },
    {
      "cell_type": "markdown",
      "source": "3. > Create a list of 5 items you can find in the classroom (Points : 5)",
      "metadata": {
        "id": "ApatE8m__2Ud"
      }
    },
    {
      "cell_type": "code",
      "source": "#5 benda didalam kelas dimsukkan kedalam list\nmy_sets = [\"Meja\", \"Kursi\", \"Proyektor\", \"Spidol\", \"Papan Tulis\"]\nprint(my_sets)\n\n#Mencari apakah terdapat data yang dicari dalam data list\nprint(\"Kursi\" in my_sets)",
      "metadata": {
        "id": "-Q0Ynqx1_6hF",
        "trusted": true
      },
      "execution_count": 5,
      "outputs": [
        {
          "name": "stdout",
          "text": "['Meja', 'Kursi', 'Proyektor', 'Spidol', 'Papan Tulis']\nTrue\n",
          "output_type": "stream"
        }
      ]
    },
    {
      "cell_type": "markdown",
      "source": "4. > Create a dictionary containing 2 keys and value (Points : 5)",
      "metadata": {
        "id": "6FwMmy_9AS5N"
      }
    },
    {
      "cell_type": "code",
      "source": "#Sebuah dictionary ditandai dengan penggunaan {}\ndictonary={\n    \"name\":['Elishabet','Daniela','Rachel','Cesya'],\n    \"asal\":['Tangerang','Riau','Riau','Medan'],\n    \"age\":[20,20,10,20]\n}\nprint(dictonary)",
      "metadata": {
        "id": "xLc2AlhtASOm",
        "trusted": true
      },
      "execution_count": 6,
      "outputs": [
        {
          "name": "stdout",
          "text": "{'name': ['Elishabet', 'Daniela', 'Rachel', 'Cesya'], 'asal': ['Tangerang', 'Riau', 'Riau', 'Medan'], 'age': [20, 20, 10, 20]}\n",
          "output_type": "stream"
        }
      ]
    },
    {
      "cell_type": "markdown",
      "source": "# Basic Data Operation",
      "metadata": {
        "id": "6AqPfAS7a1Oi"
      }
    },
    {
      "cell_type": "markdown",
      "source": "You sold 20 pieces of electronics at the price of 12000. The customer gets a total discount of 10%.\n\nBelow are those variables:\n\n1.   price=12000\n2.   quantity_sold=20\n3.   discount=10%\n\n\nUsing Python code, write the code the find the total money that the customer to pay. (Points : 15)",
      "metadata": {
        "id": "-ZZF1cXlbqkJ"
      }
    },
    {
      "cell_type": "code",
      "source": "#Menghitung total uang yang harus dibayarkan customer persatuan elektronik\nprice = float(12000)\ndiskon = float(12000*10/100)\ntotal = (price-diskon)\nprint(\"\\nTotal yang harus dibayarkan  = %0.2f\" % total)",
      "metadata": {
        "id": "90T0A2HvbcCK",
        "trusted": true
      },
      "execution_count": 7,
      "outputs": [
        {
          "name": "stdout",
          "text": "\nTotal yang harus dibayarkan  = 10800.00\n",
          "output_type": "stream"
        }
      ]
    },
    {
      "cell_type": "markdown",
      "source": "5. > Follow the instructions in the code blocks\n\n\n\n",
      "metadata": {
        "id": "NdoSjVZ4Zbqg"
      }
    },
    {
      "cell_type": "markdown",
      "source": "# List Data Operation",
      "metadata": {
        "id": "G-HHsg4la6mJ"
      }
    },
    {
      "cell_type": "code",
      "source": "# Create list of countries in the world (total 7 countries) (Points : 5)\nnegara = [\"Indonesia\", \"Jerman\", \"Australia\", \"Finlandia\", \"Singapura\", \"Inggris\", \"Thailand\"]\nprint(negara)",
      "metadata": {
        "id": "xsFxlZGLaQ7y",
        "trusted": true
      },
      "execution_count": 8,
      "outputs": [
        {
          "name": "stdout",
          "text": "['Indonesia', 'Jerman', 'Australia', 'Finlandia', 'Singapura', 'Inggris', 'Thailand']\n",
          "output_type": "stream"
        }
      ]
    },
    {
      "cell_type": "code",
      "source": "# Get 4 countries from the first index of the list (Points : 5)\nprint (\"4 negara awal dalam list adalah \", negara[0:4])\n",
      "metadata": {
        "id": "6Se125DabJ6R",
        "trusted": true
      },
      "execution_count": 9,
      "outputs": [
        {
          "name": "stdout",
          "text": "4 negara awal dalam list adalah  ['Indonesia', 'Jerman', 'Australia', 'Finlandia']\n",
          "output_type": "stream"
        }
      ]
    },
    {
      "cell_type": "code",
      "source": "# Append new country to the list (Points : 5)\nnegara.append(\"China\")\nprint(negara)",
      "metadata": {
        "id": "FSU5QfExbKAh",
        "trusted": true
      },
      "execution_count": 10,
      "outputs": [
        {
          "name": "stdout",
          "text": "['Indonesia', 'Jerman', 'Australia', 'Finlandia', 'Singapura', 'Inggris', 'Thailand', 'China']\n",
          "output_type": "stream"
        }
      ]
    },
    {
      "cell_type": "code",
      "source": "# Drop one country from the list (Points : 5)\nnegara.remove(\"Finlandia\")\nprint(negara)",
      "metadata": {
        "id": "DlvXbKlnbKGR",
        "trusted": true
      },
      "execution_count": 11,
      "outputs": [
        {
          "name": "stdout",
          "text": "['Indonesia', 'Jerman', 'Australia', 'Singapura', 'Inggris', 'Thailand', 'China']\n",
          "output_type": "stream"
        }
      ]
    },
    {
      "cell_type": "code",
      "source": "# Get country in the last index (Points : 5)\nprint (\"Negara terakhir dalam list adalah \", negara[-1])",
      "metadata": {
        "id": "F1NJ6JCQbKJ7",
        "trusted": true
      },
      "execution_count": 12,
      "outputs": [
        {
          "name": "stdout",
          "text": "Negara terakhir dalam list adalah  China\n",
          "output_type": "stream"
        }
      ]
    },
    {
      "cell_type": "markdown",
      "source": "# Dictionary Data Operation",
      "metadata": {
        "id": "Kfkq-SmIdJR6"
      }
    },
    {
      "cell_type": "markdown",
      "source": "6. >  Follow the instructions below\n\n\n\n",
      "metadata": {
        "id": "WyJ8CJzdeMiS"
      }
    },
    {
      "cell_type": "code",
      "source": "# Given the dictionary below\n\ncustomer={\n    \"name\":['Dio','Eka','Wayu','Riki'],\n    \"age\":[20,19,24,39],\n    \"gender\":[1,0,0,1],\n    \"membership\":['Platinum','Gold','Silver','Silver']\n}",
      "metadata": {
        "id": "fVHYIKLwdMfq",
        "trusted": true
      },
      "execution_count": 13,
      "outputs": []
    },
    {
      "cell_type": "code",
      "source": "# Print all keys in customer (Points : 5)\nprint(customer)",
      "metadata": {
        "id": "LpRVtz4_eJK5",
        "trusted": true
      },
      "execution_count": 14,
      "outputs": [
        {
          "name": "stdout",
          "text": "{'name': ['Dio', 'Eka', 'Wayu', 'Riki'], 'age': [20, 19, 24, 39], 'gender': [1, 0, 0, 1], 'membership': ['Platinum', 'Gold', 'Silver', 'Silver']}\n",
          "output_type": "stream"
        }
      ]
    },
    {
      "cell_type": "code",
      "source": "# Print all customer names (Points : 5)\nprint(customer[\"name\"])",
      "metadata": {
        "id": "QiEMM94FeYrz",
        "trusted": true
      },
      "execution_count": 15,
      "outputs": [
        {
          "name": "stdout",
          "text": "['Dio', 'Eka', 'Wayu', 'Riki']\n",
          "output_type": "stream"
        }
      ]
    },
    {
      "cell_type": "code",
      "source": "# Print the first customer name (Points : 5)\nnama = (customer[\"name\"])\nprint(nama[0:1])",
      "metadata": {
        "id": "P2SeErUGgQ-D",
        "trusted": true
      },
      "execution_count": 16,
      "outputs": [
        {
          "name": "stdout",
          "text": "['Dio']\n",
          "output_type": "stream"
        }
      ]
    },
    {
      "cell_type": "code",
      "source": "# Drop \"age\" key from the dictionary (Points : 5)\ndel (customer[\"age\"])\nprint(customer)",
      "metadata": {
        "id": "c3PlmHxueiPy",
        "trusted": true
      },
      "execution_count": 17,
      "outputs": [
        {
          "name": "stdout",
          "text": "{'name': ['Dio', 'Eka', 'Wayu', 'Riki'], 'gender': [1, 0, 0, 1], 'membership': ['Platinum', 'Gold', 'Silver', 'Silver']}\n",
          "output_type": "stream"
        }
      ]
    },
    {
      "cell_type": "code",
      "source": "# Replace customer gender list value (Points : 20)\n# gender 1 => Male\n# gender 0 => Female \ncustomer.update ({\"gender\":['Male','Female','Male','Female']})\nprint(customer)",
      "metadata": {
        "id": "FgXDh9mIea9x",
        "trusted": true
      },
      "execution_count": 18,
      "outputs": [
        {
          "name": "stdout",
          "text": "{'name': ['Dio', 'Eka', 'Wayu', 'Riki'], 'gender': ['Male', 'Female', 'Male', 'Female'], 'membership': ['Platinum', 'Gold', 'Silver', 'Silver']}\n",
          "output_type": "stream"
        }
      ]
    }
  ]
}